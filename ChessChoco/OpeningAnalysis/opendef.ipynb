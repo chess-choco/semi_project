{
 "cells": [
  {
   "cell_type": "code",
   "execution_count": 3,
   "id": "2ff90672",
   "metadata": {},
   "outputs": [],
   "source": [
    "import pandas as pd\n",
    "import numpy as np\n",
    "import json\n"
   ]
  },
  {
   "cell_type": "code",
   "execution_count": null,
   "id": "92f01e8a",
   "metadata": {},
   "outputs": [],
   "source": [
    "def calldict():\n",
    "    with open(\"./OpeningDicts2.txt\",\"r\",encoding=\"utf-8\") as f :\n",
    "        lines = f.readlines()\n",
    "    lines = [line.strip().replace(\"'\",\"\\\"\") for line in lines]\n",
    "    dict_collection = [json.loads(line) for line in lines]\n",
    "    OpeningDict=dict_collection[0]\n",
    "    return OpeningDict\n"
   ]
  },
  {
   "cell_type": "code",
   "execution_count": 5,
   "id": "b939c293",
   "metadata": {},
   "outputs": [
    {
     "data": {
      "text/plain": [
       "{'오픈 게임': ['e4', 'e5'],\n",
       " '루이 로페즈': ['e4', 'e5', 'Nf3', 'Nc6', 'Bb5'],\n",
       " '스카치 게임': ['e4', 'e5', 'Nf3', 'Nc6', 'd4'],\n",
       " '이탈리안 게임': ['e4', 'e5', 'Nf3', 'Nc6', 'Bc4'],\n",
       " '포 나이트 게임': ['e4', 'e5', 'Nf3', 'Nc6', 'Nc3', 'Nf6'],\n",
       " '페트로프 디펜스': ['e4', 'e5', 'Nf3', 'Nf6'],\n",
       " '필리도어 디펜스': ['e4', 'e5', 'Nf3', 'd6'],\n",
       " '비엔나 게임': ['e4', 'e5', 'Nc3'],\n",
       " '비숍 오프닝': ['e4', 'e5', 'Bc4'],\n",
       " '킹스 갬빗': ['e4', 'e5', 'f4'],\n",
       " '센터 게임': ['e4', 'e5', 'd4', 'exd4', 'Qxd4'],\n",
       " '대니시 갬빗': ['e4', 'e5', 'd4', 'exd4', 'c3'],\n",
       " '세미 오픈 게임': ['e4'],\n",
       " '시실리안 디펜스': ['e4', 'c5'],\n",
       " '프렌치 디펜스': ['e4', 'e6'],\n",
       " '카로-칸 디펜스': ['e4', 'c6'],\n",
       " '스칸디나비안 디펜스': ['e4', 'd5'],\n",
       " '피어츠 디펜스': ['e4', 'd6', 'd4', 'Nf6', 'Nc3', 'g6'],\n",
       " '알레킨 디펜스': ['e4', 'Nf6'],\n",
       " '모던 디펜스': ['e4', 'g6'],\n",
       " '클로즈드 게임': ['d4', 'd5'],\n",
       " '런던 시스템': ['d4', 'f5', 'Bf4'],\n",
       " '퀸스 갬빗': ['d4', 'd5', 'c4'],\n",
       " '퀸스 갬빗 수락 (QGA)': ['d4', 'd5', 'c4', 'dxc4'],\n",
       " '퀸스 갬빗 거절 (QGD)': ['d4', 'd5', 'c4', 'e6'],\n",
       " '슬라브 디펜스': ['d4', 'd5', 'c4', 'c6'],\n",
       " '스톤월 어택': ['d4', 'd5', 'e3', 'Nf6', 'Bd3', 'c5', 'c3', 'Nc6', 'f4'],\n",
       " '콜 시스템': ['d4', 'd5', 'Nf3', 'Nf6', 'e3'],\n",
       " '인디언 디펜스': ['d4', 'Nf6'],\n",
       " '모던 베노니': ['d4', 'Nf6', 'c4', 'c5', 'd5', 'e6'],\n",
       " '벵코 갬빗 (볼가 갬빗)': ['d4', 'Nf6', 'c4', 'c5', 'd5', 'b5'],\n",
       " '님조-인디언 디펜스': ['d4', 'Nf6', 'c4', 'e6', 'Nc3', 'Bb4'],\n",
       " '퀸스 인디언 디펜스': ['d4', 'Nf6', 'c4', 'e6', 'Nf3', 'b6'],\n",
       " '카탈란 오프닝': ['d4', 'Nf6', 'c4', 'e6', 'g3'],\n",
       " '그룬펠드 디펜스': ['d4', 'Nf6', 'c4', 'g6', 'Nc3', 'd5'],\n",
       " '킹스 인디언 디펜스 (KID)': ['d4', 'Nf6', 'c4', 'g6', 'Nc3', 'Bg7'],\n",
       " '베노니 디펜스': ['d4', 'c5'],\n",
       " '더치 디펜스': ['d4', 'f5'],\n",
       " '랄슨 오프닝': ['b3'],\n",
       " '소콜스키 오프닝': ['b4'],\n",
       " '잉글리시 오프닝': ['c4'],\n",
       " '주커토트 오프닝': ['Nf3'],\n",
       " '킹스 인디언 어택 (KIA)': ['Nf3', 'g3', 'Bg2', '0-0', 'd3', 'Nbd2', 'e4'],\n",
       " '버드 오프닝': ['f4'],\n",
       " '벵코 오프닝': ['g3'],\n",
       " '그롭 어택': ['g4']}"
      ]
     },
     "execution_count": 5,
     "metadata": {},
     "output_type": "execute_result"
    }
   ],
   "source": [
    "calldict()"
   ]
  },
  {
   "cell_type": "code",
   "execution_count": 12,
   "id": "e5ca64ef",
   "metadata": {},
   "outputs": [],
   "source": [
    "def findopen(lst):\n",
    "    openindex=[]\n",
    "    for i in range(len(lst)):\n",
    "        if lst in calldict().values():\n",
    "            for key,value in  calldict().items():\n",
    "                if value == lst:\n",
    "                    opindex=key\n",
    "    if opindex != 0:\n",
    "        openindex.append(opindex)\n",
    "    else:\n",
    "        opindex=\"존재하지 않는 오프닝입니다\"\n",
    "        openindex.append(opindex)\n",
    "    opindex=0\n",
    "    return openindex"
   ]
  },
  {
   "cell_type": "code",
   "execution_count": 13,
   "id": "861d49c7",
   "metadata": {},
   "outputs": [
    {
     "data": {
      "text/plain": [
       "['오픈 게임']"
      ]
     },
     "execution_count": 13,
     "metadata": {},
     "output_type": "execute_result"
    }
   ],
   "source": [
    "inputmoves=['e4','e5']    \n",
    "findopen(inputmoves)\n",
    " "
   ]
  },
  {
   "cell_type": "code",
   "execution_count": 18,
   "id": "b13d8eea",
   "metadata": {},
   "outputs": [],
   "source": [
    "def findopen(lst):\n",
    "    openindex=[]\n",
    "    openings=[]\n",
    "    for i in range(len(lst)):\n",
    "        if lst in calldict().values():\n",
    "            for key,value in  calldict().items():\n",
    "                if value == lst:\n",
    "                    opindex=key\n",
    "        for j in range(len(list(calldict().values()))):\n",
    "            if lst[i] in list(calldict().values())[j]:\n",
    "                openings.append([i,list(calldict().keys())[j]])\n",
    "    if opindex != 0:\n",
    "        openindex.append(opindex)\n",
    "    else:\n",
    "        opindex=\"존재하지 않는 오프닝입니다\"\n",
    "        openindex.append(opindex)\n",
    "    opindex=0\n",
    "    return [openindex,openings]"
   ]
  },
  {
   "cell_type": "code",
   "execution_count": 19,
   "id": "d28e5fec",
   "metadata": {},
   "outputs": [],
   "source": [
    "inputmoves=['e4','e5']    \n",
    "F=findopen(inputmoves)\n",
    "def ableopen(openlst,k):\n",
    "    kstableopen=[]\n",
    "    for i in range(len(openlst[1])):\n",
    "        for j in range(k):\n",
    "            if openlst[1][i][0] == j:\n",
    "                kstableopen.append(openlst[1][i])\n",
    "    return kstableopen"
   ]
  },
  {
   "cell_type": "code",
   "execution_count": 20,
   "id": "37cd00d9",
   "metadata": {},
   "outputs": [
    {
     "data": {
      "text/plain": [
       "[[0, '오픈 게임'],\n",
       " [0, '루이 로페즈'],\n",
       " [0, '스카치 게임'],\n",
       " [0, '이탈리안 게임'],\n",
       " [0, '포 나이트 게임'],\n",
       " [0, '페트로프 디펜스'],\n",
       " [0, '필리도어 디펜스'],\n",
       " [0, '비엔나 게임'],\n",
       " [0, '비숍 오프닝'],\n",
       " [0, '킹스 갬빗'],\n",
       " [0, '센터 게임'],\n",
       " [0, '대니시 갬빗'],\n",
       " [0, '세미 오픈 게임'],\n",
       " [0, '시실리안 디펜스'],\n",
       " [0, '프렌치 디펜스'],\n",
       " [0, '카로-칸 디펜스'],\n",
       " [0, '스칸디나비안 디펜스'],\n",
       " [0, '피어츠 디펜스'],\n",
       " [0, '알레킨 디펜스'],\n",
       " [0, '모던 디펜스'],\n",
       " [0, '킹스 인디언 어택 (KIA)']]"
      ]
     },
     "execution_count": 20,
     "metadata": {},
     "output_type": "execute_result"
    }
   ],
   "source": [
    "ableopen(F,1)"
   ]
  },
  {
   "cell_type": "code",
   "execution_count": null,
   "id": "cf6303e2",
   "metadata": {},
   "outputs": [],
   "source": []
  }
 ],
 "metadata": {
  "kernelspec": {
   "display_name": "Python 3 (ipykernel)",
   "language": "python",
   "name": "python3"
  },
  "language_info": {
   "codemirror_mode": {
    "name": "ipython",
    "version": 3
   },
   "file_extension": ".py",
   "mimetype": "text/x-python",
   "name": "python",
   "nbconvert_exporter": "python",
   "pygments_lexer": "ipython3",
   "version": "3.9.7"
  }
 },
 "nbformat": 4,
 "nbformat_minor": 5
}
