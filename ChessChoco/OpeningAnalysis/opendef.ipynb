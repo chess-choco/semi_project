{
 "cells": [
  {
   "cell_type": "code",
   "execution_count": 86,
   "id": "9b010e9c",
   "metadata": {},
   "outputs": [],
   "source": [
    "OpeningDict= {'Double King`s Pawn Opening or Open Game':['e4','e5'],'Ruy Lopez':['e4','e5','Nf3','Nc6','Bb5'],'Scotch Game':['e4','e5','Nf3','Nc6','d4'],'Italian Game':['e4','e5','Nf3','Nc6','Bc4'],'Four Knights Game':['e4','e5','Nf3','Nc6','Nc3','Nf6'],'Petrov`s Defense':['e4','e5','Nf3','Nf6'],'Philidor Defense':['e4','e5','Nf3','d6'],'Vienna Game':['e4','e5','Nc3'],'Bishop`s Opening':['e4','e5','Bc4'],'King`s Gambit':['e4','e5','f4'],'Center Game':['e4','e5','d4','exd4','Qxd4'],'Danish Gambit':['e4','e5','d4','exd4','c3'],'Semi-open games':['e4'],'Sicilian Defense':['e4','c5'],'French Defense':['e4','e6'],'Caro–Kann Defense':['e4','c6'],'Scandinavian Defense (also known as the Center Counter defense)':['e4','d5'],'Pirc Defense':['e4','d6','d4','Nf6','Nc3','g6'],'Alekhine`s Defense':['e4','Nf6'],'Modern Defense':['e4','g6'],'Double Queen`s Pawn Opening or Closed Game':['d4','d5'],\n",
    "'Queen`s Gambit':['d4','d5','c4'],'Queen`s Gambit Accepted (QGA)':['d4','d5','c4','dxc4'],'Queen`s Gambit Declined (QGD)':['d4','d5','c4','e6'],'Slav Defense':['d4','d5','c4','c6'],'(a typical move sequence) Stonewall Attack':['d4','d5','e3','Nf6','Bd3','c5','c3','Nc6','f4'],'Colle System':['d4','d5','Nf3','Nf6','e3'],'Indian defenses':['d4','Nf6'],'Modern Benoni':['d4','Nf6','c4','c5','d5','e6'],'Benko Gambit (or Volga Gambit)':['d4','Nf6','c4','c5','d5','b5'],'Nimzo-Indian Defense':['d4','Nf6','c4','e6','Nc3','Bb4'],'Queen`s Indian Defense':['d4','Nf6','c4','e6','Nf3','b6'],'Catalan Opening':['d4','Nf6','c4','e6','g3'],'Grünfeld Defense':['d4','Nf6','c4','g6','Nc3','d5'],'King`s Indian Defense (KID)':['d4','Nf6','c4','g6','Nc3','Bg7'],'Benoni Defense':['d4','c5'],'Dutch Defense':['d4','f5'],'Larsen`s Opening':['b3'],'Sokolsky Opening':['b4'],'English Opening':['c4'],'Zukertort Opening (characteristically followed by fianchettoing one or both bishops, and without an early d4)':['Nf3'],'King`s Indian Attack (KIA) (moves may be played in many different orders)':['Nf3', 'g3','Bg2', '0-0', 'd3', 'Nbd2', 'e4'],'Bird`s Opening':['f4'],'Benko Opening':['g3'],'Grob`s Attack':['g4']}"
   ]
  },
  {
   "cell_type": "code",
   "execution_count": 108,
   "id": "e5ca64ef",
   "metadata": {},
   "outputs": [],
   "source": [
    "def findopen(lst):\n",
    "    openindex=[]\n",
    "    for i in range(len(lst)):\n",
    "        if lst in OpeningDict.values():\n",
    "            for key,value in  OpeningDict.items():\n",
    "                if value == lst:\n",
    "                    opindex=key\n",
    "    if opindex != 0:\n",
    "        openindex.append(opindex)\n",
    "    else:\n",
    "        opindex=\"존재하지 않는 오프닝입니다\"\n",
    "        openindex.append(opindex)\n",
    "    opindex=0\n",
    "    return openindex"
   ]
  },
  {
   "cell_type": "code",
   "execution_count": 118,
   "id": "9a05e32b",
   "metadata": {},
   "outputs": [
    {
     "name": "stdout",
     "output_type": "stream",
     "text": [
      "['e4', 'e5', 'Nf3', 'Nc6', 'Bb5']\n"
     ]
    }
   ],
   "source": [
    "print(list(OpeningDict.values())[1])"
   ]
  },
  {
   "cell_type": "code",
   "execution_count": 109,
   "id": "861d49c7",
   "metadata": {},
   "outputs": [
    {
     "data": {
      "text/plain": [
       "['Double King`s Pawn Opening or Open Game']"
      ]
     },
     "execution_count": 109,
     "metadata": {},
     "output_type": "execute_result"
    }
   ],
   "source": [
    "inputmoves=['e4','e5']    \n",
    "findopen(inputmoves)\n",
    " "
   ]
  },
  {
   "cell_type": "code",
   "execution_count": 214,
   "id": "b13d8eea",
   "metadata": {},
   "outputs": [],
   "source": [
    "def findopen(lst):\n",
    "    openindex=[]\n",
    "    openings=[]\n",
    "    for i in range(len(lst)):\n",
    "        if lst in OpeningDict.values():\n",
    "            for key,value in  OpeningDict.items():\n",
    "                if value == lst:\n",
    "                    opindex=key\n",
    "        for j in range(len(list(OpeningDict.values()))):\n",
    "            if lst[i] in list(OpeningDict.values())[j]:\n",
    "                openings.append([i,list(OpeningDict.keys())[j]])\n",
    "    if opindex != 0:\n",
    "        openindex.append(opindex)\n",
    "    else:\n",
    "        opindex=\"존재하지 않는 오프닝입니다\"\n",
    "        openindex.append(opindex)\n",
    "    opindex=0\n",
    "    return [openindex,openings]"
   ]
  },
  {
   "cell_type": "code",
   "execution_count": 217,
   "id": "d28e5fec",
   "metadata": {},
   "outputs": [],
   "source": [
    "inputmoves=['e4','e5']    \n",
    "F=findopen(inputmoves)\n",
    "def ableopen(openlst,k):\n",
    "    kstableopen=[]\n",
    "    for i in range(len(openlst[1])):\n",
    "        for j in range(k):\n",
    "            if openlst[1][i][0] == j:\n",
    "                kstableopen.append(openlst[1][i])\n",
    "    return kstableopen"
   ]
  },
  {
   "cell_type": "code",
   "execution_count": 219,
   "id": "37cd00d9",
   "metadata": {},
   "outputs": [
    {
     "data": {
      "text/plain": [
       "[[0, 'Double King`s Pawn Opening or Open Game'],\n",
       " [0, 'Ruy Lopez'],\n",
       " [0, 'Scotch Game'],\n",
       " [0, 'Italian Game'],\n",
       " [0, 'Four Knights Game'],\n",
       " [0, 'Petrov`s Defense'],\n",
       " [0, 'Philidor Defense'],\n",
       " [0, 'Vienna Game'],\n",
       " [0, 'Bishop`s Opening'],\n",
       " [0, 'King`s Gambit'],\n",
       " [0, 'Center Game'],\n",
       " [0, 'Danish Gambit'],\n",
       " [0, 'Semi-open games'],\n",
       " [0, 'Sicilian Defense'],\n",
       " [0, 'French Defense'],\n",
       " [0, 'Caro–Kann Defense'],\n",
       " [0, 'Scandinavian Defense (also known as the Center Counter defense)'],\n",
       " [0, 'Pirc Defense'],\n",
       " [0, 'Alekhine`s Defense'],\n",
       " [0, 'Modern Defense'],\n",
       " [0,\n",
       "  'King`s Indian Attack (KIA) (moves may be played in many different orders)']]"
      ]
     },
     "execution_count": 219,
     "metadata": {},
     "output_type": "execute_result"
    }
   ],
   "source": [
    "ableopen(F,1)"
   ]
  }
 ],
 "metadata": {
  "kernelspec": {
   "display_name": "Python 3 (ipykernel)",
   "language": "python",
   "name": "python3"
  },
  "language_info": {
   "codemirror_mode": {
    "name": "ipython",
    "version": 3
   },
   "file_extension": ".py",
   "mimetype": "text/x-python",
   "name": "python",
   "nbconvert_exporter": "python",
   "pygments_lexer": "ipython3",
   "version": "3.9.7"
  }
 },
 "nbformat": 4,
 "nbformat_minor": 5
}
