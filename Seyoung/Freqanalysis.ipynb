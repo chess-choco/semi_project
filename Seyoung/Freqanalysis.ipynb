{
 "cells": [
  {
   "cell_type": "code",
   "execution_count": 22,
   "id": "a363cd1c",
   "metadata": {},
   "outputs": [],
   "source": [
    "import pandas as pd\n",
    "import numpy as np"
   ]
  },
  {
   "cell_type": "code",
   "execution_count": 23,
   "id": "0aa44ae9",
   "metadata": {},
   "outputs": [],
   "source": [
    "chessFreq=pd.read_csv(\"./Freq.csv\",index_col=None,header=None)"
   ]
  },
  {
   "cell_type": "code",
   "execution_count": 24,
   "id": "2b349233",
   "metadata": {},
   "outputs": [
    {
     "data": {
      "text/html": [
       "<div>\n",
       "<style scoped>\n",
       "    .dataframe tbody tr th:only-of-type {\n",
       "        vertical-align: middle;\n",
       "    }\n",
       "\n",
       "    .dataframe tbody tr th {\n",
       "        vertical-align: top;\n",
       "    }\n",
       "\n",
       "    .dataframe thead th {\n",
       "        text-align: right;\n",
       "    }\n",
       "</style>\n",
       "<table border=\"1\" class=\"dataframe\">\n",
       "  <thead>\n",
       "    <tr style=\"text-align: right;\">\n",
       "      <th></th>\n",
       "      <th>0</th>\n",
       "      <th>1</th>\n",
       "      <th>2</th>\n",
       "      <th>3</th>\n",
       "      <th>4</th>\n",
       "      <th>5</th>\n",
       "      <th>6</th>\n",
       "      <th>7</th>\n",
       "      <th>8</th>\n",
       "      <th>9</th>\n",
       "      <th>10</th>\n",
       "    </tr>\n",
       "  </thead>\n",
       "  <tbody>\n",
       "    <tr>\n",
       "      <th>0</th>\n",
       "      <td>e4</td>\n",
       "      <td>c5</td>\n",
       "      <td>Nf3</td>\n",
       "      <td>d6</td>\n",
       "      <td>d4</td>\n",
       "      <td>cxd4</td>\n",
       "      <td>Nxd4</td>\n",
       "      <td>Nf6</td>\n",
       "      <td>Nc3</td>\n",
       "      <td>a6</td>\n",
       "      <td>395</td>\n",
       "    </tr>\n",
       "    <tr>\n",
       "      <th>1</th>\n",
       "      <td>e4</td>\n",
       "      <td>e5</td>\n",
       "      <td>Nf3</td>\n",
       "      <td>Nc6</td>\n",
       "      <td>Bb5</td>\n",
       "      <td>a6</td>\n",
       "      <td>Ba4</td>\n",
       "      <td>Nf6</td>\n",
       "      <td>O-O</td>\n",
       "      <td>Be7</td>\n",
       "      <td>233</td>\n",
       "    </tr>\n",
       "    <tr>\n",
       "      <th>2</th>\n",
       "      <td>e4</td>\n",
       "      <td>c5</td>\n",
       "      <td>Nf3</td>\n",
       "      <td>d6</td>\n",
       "      <td>d4</td>\n",
       "      <td>cxd4</td>\n",
       "      <td>Nxd4</td>\n",
       "      <td>Nf6</td>\n",
       "      <td>Nc3</td>\n",
       "      <td>Nc6</td>\n",
       "      <td>90</td>\n",
       "    </tr>\n",
       "    <tr>\n",
       "      <th>3</th>\n",
       "      <td>e4</td>\n",
       "      <td>c5</td>\n",
       "      <td>Nf3</td>\n",
       "      <td>Nc6</td>\n",
       "      <td>d4</td>\n",
       "      <td>cxd4</td>\n",
       "      <td>Nxd4</td>\n",
       "      <td>Nf6</td>\n",
       "      <td>Nc3</td>\n",
       "      <td>e5</td>\n",
       "      <td>87</td>\n",
       "    </tr>\n",
       "    <tr>\n",
       "      <th>4</th>\n",
       "      <td>e4</td>\n",
       "      <td>c5</td>\n",
       "      <td>Nf3</td>\n",
       "      <td>e6</td>\n",
       "      <td>d4</td>\n",
       "      <td>cxd4</td>\n",
       "      <td>Nxd4</td>\n",
       "      <td>Nc6</td>\n",
       "      <td>Nc3</td>\n",
       "      <td>Qc7</td>\n",
       "      <td>86</td>\n",
       "    </tr>\n",
       "    <tr>\n",
       "      <th>...</th>\n",
       "      <td>...</td>\n",
       "      <td>...</td>\n",
       "      <td>...</td>\n",
       "      <td>...</td>\n",
       "      <td>...</td>\n",
       "      <td>...</td>\n",
       "      <td>...</td>\n",
       "      <td>...</td>\n",
       "      <td>...</td>\n",
       "      <td>...</td>\n",
       "      <td>...</td>\n",
       "    </tr>\n",
       "    <tr>\n",
       "      <th>7977</th>\n",
       "      <td>d4</td>\n",
       "      <td>Nf6</td>\n",
       "      <td>c4</td>\n",
       "      <td>e5</td>\n",
       "      <td>dxe5</td>\n",
       "      <td>Ng4</td>\n",
       "      <td>Qd4</td>\n",
       "      <td>d6</td>\n",
       "      <td>Nc3</td>\n",
       "      <td>Nc6</td>\n",
       "      <td>1</td>\n",
       "    </tr>\n",
       "    <tr>\n",
       "      <th>7978</th>\n",
       "      <td>d4</td>\n",
       "      <td>Nf6</td>\n",
       "      <td>c4</td>\n",
       "      <td>e5</td>\n",
       "      <td>dxe5</td>\n",
       "      <td>Ng4</td>\n",
       "      <td>Nf3</td>\n",
       "      <td>Nc6</td>\n",
       "      <td>Bf4</td>\n",
       "      <td>Bb4+</td>\n",
       "      <td>1</td>\n",
       "    </tr>\n",
       "    <tr>\n",
       "      <th>7979</th>\n",
       "      <td>d4</td>\n",
       "      <td>Nf6</td>\n",
       "      <td>c4</td>\n",
       "      <td>e5</td>\n",
       "      <td>dxe5</td>\n",
       "      <td>Ng4</td>\n",
       "      <td>Bf4</td>\n",
       "      <td>g5</td>\n",
       "      <td>Bg3</td>\n",
       "      <td>Nc6</td>\n",
       "      <td>1</td>\n",
       "    </tr>\n",
       "    <tr>\n",
       "      <th>7980</th>\n",
       "      <td>d4</td>\n",
       "      <td>Nf6</td>\n",
       "      <td>c4</td>\n",
       "      <td>e5</td>\n",
       "      <td>d5</td>\n",
       "      <td>Bb4+</td>\n",
       "      <td>Bd2</td>\n",
       "      <td>Qe7</td>\n",
       "      <td>a3</td>\n",
       "      <td>Bxd2+</td>\n",
       "      <td>1</td>\n",
       "    </tr>\n",
       "    <tr>\n",
       "      <th>7981</th>\n",
       "      <td>h4</td>\n",
       "      <td>d5</td>\n",
       "      <td>Nf3</td>\n",
       "      <td>Nf6</td>\n",
       "      <td>d4</td>\n",
       "      <td>e6</td>\n",
       "      <td>Bg5</td>\n",
       "      <td>c5</td>\n",
       "      <td>e3</td>\n",
       "      <td>Nc6</td>\n",
       "      <td>1</td>\n",
       "    </tr>\n",
       "  </tbody>\n",
       "</table>\n",
       "<p>7982 rows × 11 columns</p>\n",
       "</div>"
      ],
      "text/plain": [
       "      0    1    2    3     4     5     6    7    8      9    10\n",
       "0     e4   c5  Nf3   d6    d4  cxd4  Nxd4  Nf6  Nc3     a6  395\n",
       "1     e4   e5  Nf3  Nc6   Bb5    a6   Ba4  Nf6  O-O    Be7  233\n",
       "2     e4   c5  Nf3   d6    d4  cxd4  Nxd4  Nf6  Nc3    Nc6   90\n",
       "3     e4   c5  Nf3  Nc6    d4  cxd4  Nxd4  Nf6  Nc3     e5   87\n",
       "4     e4   c5  Nf3   e6    d4  cxd4  Nxd4  Nc6  Nc3    Qc7   86\n",
       "...   ..  ...  ...  ...   ...   ...   ...  ...  ...    ...  ...\n",
       "7977  d4  Nf6   c4   e5  dxe5   Ng4   Qd4   d6  Nc3    Nc6    1\n",
       "7978  d4  Nf6   c4   e5  dxe5   Ng4   Nf3  Nc6  Bf4   Bb4+    1\n",
       "7979  d4  Nf6   c4   e5  dxe5   Ng4   Bf4   g5  Bg3    Nc6    1\n",
       "7980  d4  Nf6   c4   e5    d5  Bb4+   Bd2  Qe7   a3  Bxd2+    1\n",
       "7981  h4   d5  Nf3  Nf6    d4    e6   Bg5   c5   e3    Nc6    1\n",
       "\n",
       "[7982 rows x 11 columns]"
      ]
     },
     "execution_count": 24,
     "metadata": {},
     "output_type": "execute_result"
    }
   ],
   "source": [
    "chessFreq"
   ]
  },
  {
   "cell_type": "code",
   "execution_count": 25,
   "id": "ce27617d",
   "metadata": {},
   "outputs": [],
   "source": [
    "c=chessFreq.groupby(0)"
   ]
  },
  {
   "cell_type": "code",
   "execution_count": 26,
   "id": "c289ca48",
   "metadata": {},
   "outputs": [
    {
     "data": {
      "text/html": [
       "<div>\n",
       "<style scoped>\n",
       "    .dataframe tbody tr th:only-of-type {\n",
       "        vertical-align: middle;\n",
       "    }\n",
       "\n",
       "    .dataframe tbody tr th {\n",
       "        vertical-align: top;\n",
       "    }\n",
       "\n",
       "    .dataframe thead th {\n",
       "        text-align: right;\n",
       "    }\n",
       "</style>\n",
       "<table border=\"1\" class=\"dataframe\">\n",
       "  <thead>\n",
       "    <tr style=\"text-align: right;\">\n",
       "      <th></th>\n",
       "      <th></th>\n",
       "      <th></th>\n",
       "      <th></th>\n",
       "      <th></th>\n",
       "      <th></th>\n",
       "      <th></th>\n",
       "      <th></th>\n",
       "      <th></th>\n",
       "      <th></th>\n",
       "      <th></th>\n",
       "      <th>0</th>\n",
       "    </tr>\n",
       "    <tr>\n",
       "      <th>0</th>\n",
       "      <th>1</th>\n",
       "      <th>2</th>\n",
       "      <th>3</th>\n",
       "      <th>4</th>\n",
       "      <th>5</th>\n",
       "      <th>6</th>\n",
       "      <th>7</th>\n",
       "      <th>8</th>\n",
       "      <th>9</th>\n",
       "      <th>10</th>\n",
       "      <th></th>\n",
       "    </tr>\n",
       "  </thead>\n",
       "  <tbody>\n",
       "    <tr>\n",
       "      <th rowspan=\"5\" valign=\"top\">Nc3</th>\n",
       "      <th rowspan=\"2\" valign=\"top\">Nf6</th>\n",
       "      <th>Nf3</th>\n",
       "      <th>Nc6</th>\n",
       "      <th>d4</th>\n",
       "      <th>d5</th>\n",
       "      <th>Bf4</th>\n",
       "      <th>a6</th>\n",
       "      <th>e3</th>\n",
       "      <th>h6</th>\n",
       "      <th>1</th>\n",
       "      <td>1</td>\n",
       "    </tr>\n",
       "    <tr>\n",
       "      <th>d4</th>\n",
       "      <th>d5</th>\n",
       "      <th>Bf4</th>\n",
       "      <th>Bf5</th>\n",
       "      <th>Nf3</th>\n",
       "      <th>e6</th>\n",
       "      <th>Qd2</th>\n",
       "      <th>Bb4</th>\n",
       "      <th>1</th>\n",
       "      <td>1</td>\n",
       "    </tr>\n",
       "    <tr>\n",
       "      <th>g6</th>\n",
       "      <th>h4</th>\n",
       "      <th>h5</th>\n",
       "      <th>e4</th>\n",
       "      <th>c5</th>\n",
       "      <th>d4</th>\n",
       "      <th>cxd4</th>\n",
       "      <th>Qxd4</th>\n",
       "      <th>Nf6</th>\n",
       "      <th>1</th>\n",
       "      <td>1</td>\n",
       "    </tr>\n",
       "    <tr>\n",
       "      <th>e5</th>\n",
       "      <th>Nf3</th>\n",
       "      <th>Nc6</th>\n",
       "      <th>d4</th>\n",
       "      <th>exd4</th>\n",
       "      <th>Nxd4</th>\n",
       "      <th>Nf6</th>\n",
       "      <th>Bg5</th>\n",
       "      <th>Bc5</th>\n",
       "      <th>1</th>\n",
       "      <td>1</td>\n",
       "    </tr>\n",
       "    <tr>\n",
       "      <th>d5</th>\n",
       "      <th>e4</th>\n",
       "      <th>dxe4</th>\n",
       "      <th>Nxe4</th>\n",
       "      <th>Nf6</th>\n",
       "      <th>Nxf6+</th>\n",
       "      <th>exf6</th>\n",
       "      <th>Bc4</th>\n",
       "      <th>Bd6</th>\n",
       "      <th>1</th>\n",
       "      <td>1</td>\n",
       "    </tr>\n",
       "    <tr>\n",
       "      <th>...</th>\n",
       "      <th>...</th>\n",
       "      <th>...</th>\n",
       "      <th>...</th>\n",
       "      <th>...</th>\n",
       "      <th>...</th>\n",
       "      <th>...</th>\n",
       "      <th>...</th>\n",
       "      <th>...</th>\n",
       "      <th>...</th>\n",
       "      <th>...</th>\n",
       "      <td>...</td>\n",
       "    </tr>\n",
       "    <tr>\n",
       "      <th rowspan=\"4\" valign=\"top\">g4</th>\n",
       "      <th rowspan=\"4\" valign=\"top\">d5</th>\n",
       "      <th>e3</th>\n",
       "      <th>e5</th>\n",
       "      <th>Bg2</th>\n",
       "      <th>c6</th>\n",
       "      <th>d3</th>\n",
       "      <th>Bd6</th>\n",
       "      <th>h3</th>\n",
       "      <th>Ne7</th>\n",
       "      <th>1</th>\n",
       "      <td>1</td>\n",
       "    </tr>\n",
       "    <tr>\n",
       "      <th rowspan=\"3\" valign=\"top\">Bg2</th>\n",
       "      <th>c6</th>\n",
       "      <th>g5</th>\n",
       "      <th>e5</th>\n",
       "      <th>d4</th>\n",
       "      <th>exd4</th>\n",
       "      <th>Qxd4</th>\n",
       "      <th>Be6</th>\n",
       "      <th>1</th>\n",
       "      <td>1</td>\n",
       "    </tr>\n",
       "    <tr>\n",
       "      <th rowspan=\"2\" valign=\"top\">Bxg4</th>\n",
       "      <th rowspan=\"2\" valign=\"top\">c4</th>\n",
       "      <th>e6</th>\n",
       "      <th>Qb3</th>\n",
       "      <th>Nf6</th>\n",
       "      <th>cxd5</th>\n",
       "      <th>Nxd5</th>\n",
       "      <th>1</th>\n",
       "      <td>1</td>\n",
       "    </tr>\n",
       "    <tr>\n",
       "      <th>Nf6</th>\n",
       "      <th>cxd5</th>\n",
       "      <th>c6</th>\n",
       "      <th>Nc3</th>\n",
       "      <th>cxd5</th>\n",
       "      <th>1</th>\n",
       "      <td>1</td>\n",
       "    </tr>\n",
       "    <tr>\n",
       "      <th>h4</th>\n",
       "      <th>d5</th>\n",
       "      <th>Nf3</th>\n",
       "      <th>Nf6</th>\n",
       "      <th>d4</th>\n",
       "      <th>e6</th>\n",
       "      <th>Bg5</th>\n",
       "      <th>c5</th>\n",
       "      <th>e3</th>\n",
       "      <th>Nc6</th>\n",
       "      <th>1</th>\n",
       "      <td>1</td>\n",
       "    </tr>\n",
       "  </tbody>\n",
       "</table>\n",
       "<p>7982 rows × 1 columns</p>\n",
       "</div>"
      ],
      "text/plain": [
       "                                                    0\n",
       "0   1   2   3    4    5    6     7    8    9    10   \n",
       "Nc3 Nf6 Nf3 Nc6  d4   d5   Bf4   a6   e3   h6   1   1\n",
       "        d4  d5   Bf4  Bf5  Nf3   e6   Qd2  Bb4  1   1\n",
       "    g6  h4  h5   e4   c5   d4    cxd4 Qxd4 Nf6  1   1\n",
       "    e5  Nf3 Nc6  d4   exd4 Nxd4  Nf6  Bg5  Bc5  1   1\n",
       "    d5  e4  dxe4 Nxe4 Nf6  Nxf6+ exf6 Bc4  Bd6  1   1\n",
       "...                                                ..\n",
       "g4  d5  e3  e5   Bg2  c6   d3    Bd6  h3   Ne7  1   1\n",
       "        Bg2 c6   g5   e5   d4    exd4 Qxd4 Be6  1   1\n",
       "            Bxg4 c4   e6   Qb3   Nf6  cxd5 Nxd5 1   1\n",
       "                      Nf6  cxd5  c6   Nc3  cxd5 1   1\n",
       "h4  d5  Nf3 Nf6  d4   e6   Bg5   c5   e3   Nc6  1   1\n",
       "\n",
       "[7982 rows x 1 columns]"
      ]
     },
     "execution_count": 26,
     "metadata": {},
     "output_type": "execute_result"
    }
   ],
   "source": [
    "pd.DataFrame(c.value_counts())"
   ]
  },
  {
   "cell_type": "code",
   "execution_count": 27,
   "id": "9080f221",
   "metadata": {},
   "outputs": [],
   "source": [
    "import sys\n",
    "import json\n",
    "\n",
    "def calldict():\n",
    "    with open(\"../ChessChoco/OpeningAnalysis/OpeningDicts2.txt\",\"r\",encoding=\"utf-8\") as f :\n",
    "        lines = f.readlines()\n",
    "    lines = [line.strip().replace(\"'\",\"\\\"\") for line in lines]\n",
    "    dict_collection = [json.loads(line) for line in lines]\n",
    "    OpeningDict=dict_collection[0]\n",
    "    return OpeningDict"
   ]
  },
  {
   "cell_type": "code",
   "execution_count": 28,
   "id": "df1194d9",
   "metadata": {},
   "outputs": [],
   "source": [
    "Openingdict=calldict()"
   ]
  },
  {
   "cell_type": "code",
   "execution_count": 29,
   "id": "b92acff5",
   "metadata": {},
   "outputs": [
    {
     "data": {
      "text/plain": [
       "{'오픈 게임': ['e4', 'e5'],\n",
       " '루이 로페즈': ['e4', 'e5', 'Nf3', 'Nc6', 'Bb5'],\n",
       " '스카치 게임': ['e4', 'e5', 'Nf3', 'Nc6', 'd4'],\n",
       " '이탈리안 게임': ['e4', 'e5', 'Nf3', 'Nc6', 'Bc4'],\n",
       " '포 나이트 게임': ['e4', 'e5', 'Nf3', 'Nc6', 'Nc3', 'Nf6'],\n",
       " '페트로프 디펜스': ['e4', 'e5', 'Nf3', 'Nf6'],\n",
       " '필리도어 디펜스': ['e4', 'e5', 'Nf3', 'd6'],\n",
       " '비엔나 게임': ['e4', 'e5', 'Nc3'],\n",
       " '비숍 오프닝': ['e4', 'e5', 'Bc4'],\n",
       " '킹스 갬빗': ['e4', 'e5', 'f4'],\n",
       " '센터 게임': ['e4', 'e5', 'd4', 'exd4', 'Qxd4'],\n",
       " '대니시 갬빗': ['e4', 'e5', 'd4', 'exd4', 'c3'],\n",
       " '세미 오픈 게임': ['e4'],\n",
       " '시실리안 디펜스': ['e4', 'c5'],\n",
       " '프렌치 디펜스': ['e4', 'e6'],\n",
       " '카로-칸 디펜스': ['e4', 'c6'],\n",
       " '스칸디나비안 디펜스': ['e4', 'd5'],\n",
       " '피어츠 디펜스': ['e4', 'd6', 'd4', 'Nf6', 'Nc3', 'g6'],\n",
       " '알레킨 디펜스': ['e4', 'Nf6'],\n",
       " '모던 디펜스': ['e4', 'g6'],\n",
       " '클로즈드 게임': ['d4', 'd5'],\n",
       " '런던 시스템': ['d4', 'f5', 'Bf4'],\n",
       " '퀸스 갬빗': ['d4', 'd5', 'c4'],\n",
       " '퀸스 갬빗 수락 (QGA)': ['d4', 'd5', 'c4', 'dxc4'],\n",
       " '퀸스 갬빗 거절 (QGD)': ['d4', 'd5', 'c4', 'e6'],\n",
       " '슬라브 디펜스': ['d4', 'd5', 'c4', 'c6'],\n",
       " '스톤월 어택': ['d4', 'd5', 'e3', 'Nf6', 'Bd3', 'c5', 'c3', 'Nc6', 'f4'],\n",
       " '콜 시스템': ['d4', 'd5', 'Nf3', 'Nf6', 'e3'],\n",
       " '인디언 디펜스': ['d4', 'Nf6'],\n",
       " '모던 베노니': ['d4', 'Nf6', 'c4', 'c5', 'd5', 'e6'],\n",
       " '벵코 갬빗 (볼가 갬빗)': ['d4', 'Nf6', 'c4', 'c5', 'd5', 'b5'],\n",
       " '님조-인디언 디펜스': ['d4', 'Nf6', 'c4', 'e6', 'Nc3', 'Bb4'],\n",
       " '퀸스 인디언 디펜스': ['d4', 'Nf6', 'c4', 'e6', 'Nf3', 'b6'],\n",
       " '카탈란 오프닝': ['d4', 'Nf6', 'c4', 'e6', 'g3'],\n",
       " '그룬펠드 디펜스': ['d4', 'Nf6', 'c4', 'g6', 'Nc3', 'd5'],\n",
       " '킹스 인디언 디펜스 (KID)': ['d4', 'Nf6', 'c4', 'g6', 'Nc3', 'Bg7'],\n",
       " '베노니 디펜스': ['d4', 'c5'],\n",
       " '더치 디펜스': ['d4', 'f5'],\n",
       " '랄슨 오프닝': ['b3'],\n",
       " '소콜스키 오프닝': ['b4'],\n",
       " '잉글리시 오프닝': ['c4'],\n",
       " '주커토트 오프닝': ['Nf3'],\n",
       " '킹스 인디언 어택 (KIA)': ['Nf3', 'g3', 'Bg2', '0-0', 'd3', 'Nbd2', 'e4'],\n",
       " '버드 오프닝': ['f4'],\n",
       " '벵코 오프닝': ['g3'],\n",
       " '그롭 어택': ['g4']}"
      ]
     },
     "execution_count": 29,
     "metadata": {},
     "output_type": "execute_result"
    }
   ],
   "source": [
    "Openingdict"
   ]
  },
  {
   "cell_type": "code",
   "execution_count": 86,
   "id": "476d0fbd",
   "metadata": {},
   "outputs": [],
   "source": [
    "def findopen(lst):\n",
    "    openindex=[]\n",
    "    openings=[]\n",
    "    opindex=0\n",
    "    list1=[]\n",
    "    for i in range(len(lst)):\n",
    "        list1.append(lst[i])\n",
    "        if list1 in calldict().values():\n",
    "            for key,value in  calldict().items():\n",
    "                if value == list1:\n",
    "                    cnt=0\n",
    "                    opindex=key\n",
    "                    opvalue=value\n",
    "                    for j in range(len(list(calldict().values()))):\n",
    "                        valueslist=[]\n",
    "                        for k in range(len(list(calldict().values())[j])):\n",
    "                            valueslist.append(list(calldict().values())[j][k])\n",
    "                        if list1 == valueslist:\n",
    "                            openings.append(list(calldict().keys())[j])\n",
    "\n",
    "\n",
    "    if opindex != 0:\n",
    "        openindex.append(opindex)\n",
    "    else:\n",
    "        opindex=\"존재하지 않는 오프닝입니다\"\n",
    "        openindex.append(opindex)\n",
    "    opindex=0\n",
    "    return [openindex,openings]"
   ]
  },
  {
   "cell_type": "code",
   "execution_count": 58,
   "id": "cbddd8f2",
   "metadata": {},
   "outputs": [
    {
     "data": {
      "text/plain": [
       "dict_values([['e4', 'e5'], ['e4', 'e5', 'Nf3', 'Nc6', 'Bb5'], ['e4', 'e5', 'Nf3', 'Nc6', 'd4'], ['e4', 'e5', 'Nf3', 'Nc6', 'Bc4'], ['e4', 'e5', 'Nf3', 'Nc6', 'Nc3', 'Nf6'], ['e4', 'e5', 'Nf3', 'Nf6'], ['e4', 'e5', 'Nf3', 'd6'], ['e4', 'e5', 'Nc3'], ['e4', 'e5', 'Bc4'], ['e4', 'e5', 'f4'], ['e4', 'e5', 'd4', 'exd4', 'Qxd4'], ['e4', 'e5', 'd4', 'exd4', 'c3'], ['e4'], ['e4', 'c5'], ['e4', 'e6'], ['e4', 'c6'], ['e4', 'd5'], ['e4', 'd6', 'd4', 'Nf6', 'Nc3', 'g6'], ['e4', 'Nf6'], ['e4', 'g6'], ['d4', 'd5'], ['d4', 'f5', 'Bf4'], ['d4', 'd5', 'c4'], ['d4', 'd5', 'c4', 'dxc4'], ['d4', 'd5', 'c4', 'e6'], ['d4', 'd5', 'c4', 'c6'], ['d4', 'd5', 'e3', 'Nf6', 'Bd3', 'c5', 'c3', 'Nc6', 'f4'], ['d4', 'd5', 'Nf3', 'Nf6', 'e3'], ['d4', 'Nf6'], ['d4', 'Nf6', 'c4', 'c5', 'd5', 'e6'], ['d4', 'Nf6', 'c4', 'c5', 'd5', 'b5'], ['d4', 'Nf6', 'c4', 'e6', 'Nc3', 'Bb4'], ['d4', 'Nf6', 'c4', 'e6', 'Nf3', 'b6'], ['d4', 'Nf6', 'c4', 'e6', 'g3'], ['d4', 'Nf6', 'c4', 'g6', 'Nc3', 'd5'], ['d4', 'Nf6', 'c4', 'g6', 'Nc3', 'Bg7'], ['d4', 'c5'], ['d4', 'f5'], ['b3'], ['b4'], ['c4'], ['Nf3'], ['Nf3', 'g3', 'Bg2', '0-0', 'd3', 'Nbd2', 'e4'], ['f4'], ['g3'], ['g4']])"
      ]
     },
     "execution_count": 58,
     "metadata": {},
     "output_type": "execute_result"
    }
   ],
   "source": [
    "calldict().values()"
   ]
  },
  {
   "cell_type": "code",
   "execution_count": null,
   "id": "baeed5f0",
   "metadata": {},
   "outputs": [],
   "source": [
    "findlst=[]\n",
    "for i in range(len(chessFreq)):\n",
    "    q = list(chessFreq.iloc[i])\n",
    "    findlst.append([findopen(q),q[10]])\n",
    "print(\"finished\")"
   ]
  },
  {
   "cell_type": "code",
   "execution_count": 65,
   "id": "221df9cf",
   "metadata": {},
   "outputs": [
    {
     "data": {
      "text/plain": [
       "['e4', 'e5', 'Nf3', 'Nc6', 'Bb5', 'f5', 'd3', 'fxe4', 'dxe4', 'Nf6', 8]"
      ]
     },
     "execution_count": 65,
     "metadata": {},
     "output_type": "execute_result"
    }
   ],
   "source": [
    "list(chessFreq.iloc[i])"
   ]
  },
  {
   "cell_type": "code",
   "execution_count": 87,
   "id": "f38f88f0",
   "metadata": {},
   "outputs": [
    {
     "data": {
      "text/plain": [
       "[['루이 로페즈'], ['세미 오픈 게임', '오픈 게임', '루이 로페즈']]"
      ]
     },
     "execution_count": 87,
     "metadata": {},
     "output_type": "execute_result"
    }
   ],
   "source": [
    "findopen(chessFreq.iloc[1])"
   ]
  },
  {
   "cell_type": "code",
   "execution_count": null,
   "id": "8b783e90",
   "metadata": {},
   "outputs": [],
   "source": [
    "findlst[7777][0][0]"
   ]
  },
  {
   "cell_type": "code",
   "execution_count": 318,
   "id": "1bef1ce8",
   "metadata": {},
   "outputs": [],
   "source": [
    "def ableopen(openlst,k):\n",
    "    kstableopen=[]\n",
    "    for i in range(len(openlst[1])):\n",
    "        if openlst[1][i][0] == k:\n",
    "            kstableopen.append(openlst[1][i])\n",
    "    return kstableopen"
   ]
  },
  {
   "cell_type": "code",
   "execution_count": 349,
   "id": "aa5b3823",
   "metadata": {},
   "outputs": [
    {
     "data": {
      "text/plain": [
       "0      d4\n",
       "1     Nf6\n",
       "2      c3\n",
       "3      g6\n",
       "4     Nf3\n",
       "5     Bg7\n",
       "6      h3\n",
       "7      b6\n",
       "8     Bf4\n",
       "9     Bb7\n",
       "10      1\n",
       "Name: 7777, dtype: object"
      ]
     },
     "execution_count": 349,
     "metadata": {},
     "output_type": "execute_result"
    }
   ],
   "source": [
    "chessFreq.iloc[7777]"
   ]
  },
  {
   "cell_type": "code",
   "execution_count": 320,
   "id": "7ccef33a",
   "metadata": {},
   "outputs": [
    {
     "data": {
      "text/plain": [
       "[[4, '스칸디나비안 디펜스'],\n",
       " [4, '클로즈드 게임'],\n",
       " [4, '퀸스 갬빗'],\n",
       " [4, '퀸스 갬빗 수락 (QGA)'],\n",
       " [4, '퀸스 갬빗 거절 (QGD)'],\n",
       " [4, '슬라브 디펜스'],\n",
       " [4, '스톤월 어택'],\n",
       " [4, '콜 시스템'],\n",
       " [4, '모던 베노니'],\n",
       " [4, '벵코 갬빗 (볼가 갬빗)'],\n",
       " [4, '그룬펠드 디펜스']]"
      ]
     },
     "execution_count": 320,
     "metadata": {},
     "output_type": "execute_result"
    }
   ],
   "source": [
    "ableopen(findlst[7980][0],4)"
   ]
  },
  {
   "cell_type": "code",
   "execution_count": 321,
   "id": "4cc037b8",
   "metadata": {},
   "outputs": [
    {
     "data": {
      "text/plain": [
       "0      h4\n",
       "1      d5\n",
       "2     Nf3\n",
       "3     Nf6\n",
       "4      d4\n",
       "5      e6\n",
       "6     Bg5\n",
       "7      c5\n",
       "8      e3\n",
       "9     Nc6\n",
       "10      1\n",
       "Name: 7981, dtype: object"
      ]
     },
     "execution_count": 321,
     "metadata": {},
     "output_type": "execute_result"
    }
   ],
   "source": [
    "chessFreq.iloc[7981]"
   ]
  },
  {
   "cell_type": "code",
   "execution_count": 322,
   "id": "2d25890c",
   "metadata": {},
   "outputs": [
    {
     "data": {
      "text/plain": [
       "7982"
      ]
     },
     "execution_count": 322,
     "metadata": {},
     "output_type": "execute_result"
    }
   ],
   "source": [
    "len(findlst)"
   ]
  },
  {
   "cell_type": "code",
   "execution_count": 342,
   "id": "1b8cef68",
   "metadata": {},
   "outputs": [],
   "source": [
    "p=[]\n",
    "for i in range(len(findlst)):\n",
    "    for k in range(1,11):\n",
    "        while ableopen(findlst[i][0],k) != []:\n",
    "            k=k+1\n",
    "        break\n",
    "    p.append([findlst[i][0][0],ableopen(findlst[i][0],k-1),findlst[i][1]])\n"
   ]
  },
  {
   "cell_type": "code",
   "execution_count": 343,
   "id": "0d1dbc6b",
   "metadata": {},
   "outputs": [],
   "source": [
    "lst=pd.DataFrame(p)"
   ]
  },
  {
   "cell_type": "code",
   "execution_count": 344,
   "id": "98f83c01",
   "metadata": {},
   "outputs": [
    {
     "data": {
      "text/html": [
       "<div>\n",
       "<style scoped>\n",
       "    .dataframe tbody tr th:only-of-type {\n",
       "        vertical-align: middle;\n",
       "    }\n",
       "\n",
       "    .dataframe tbody tr th {\n",
       "        vertical-align: top;\n",
       "    }\n",
       "\n",
       "    .dataframe thead th {\n",
       "        text-align: right;\n",
       "    }\n",
       "</style>\n",
       "<table border=\"1\" class=\"dataframe\">\n",
       "  <thead>\n",
       "    <tr style=\"text-align: right;\">\n",
       "      <th></th>\n",
       "      <th>0</th>\n",
       "      <th>1</th>\n",
       "      <th>2</th>\n",
       "    </tr>\n",
       "  </thead>\n",
       "  <tbody>\n",
       "    <tr>\n",
       "      <th>0</th>\n",
       "      <td>[시실리안 디펜스]</td>\n",
       "      <td>[[4, 스카치 게임], [4, 센터 게임], [4, 대니시 갬빗], [4, 피어츠...</td>\n",
       "      <td>395</td>\n",
       "    </tr>\n",
       "    <tr>\n",
       "      <th>1</th>\n",
       "      <td>[루이 로페즈]</td>\n",
       "      <td>[[4, 루이 로페즈]]</td>\n",
       "      <td>233</td>\n",
       "    </tr>\n",
       "    <tr>\n",
       "      <th>2</th>\n",
       "      <td>[시실리안 디펜스]</td>\n",
       "      <td>[[4, 스카치 게임], [4, 센터 게임], [4, 대니시 갬빗], [4, 피어츠...</td>\n",
       "      <td>90</td>\n",
       "    </tr>\n",
       "    <tr>\n",
       "      <th>3</th>\n",
       "      <td>[시실리안 디펜스]</td>\n",
       "      <td>[[4, 스카치 게임], [4, 센터 게임], [4, 대니시 갬빗], [4, 피어츠...</td>\n",
       "      <td>87</td>\n",
       "    </tr>\n",
       "    <tr>\n",
       "      <th>4</th>\n",
       "      <td>[시실리안 디펜스]</td>\n",
       "      <td>[[4, 스카치 게임], [4, 센터 게임], [4, 대니시 갬빗], [4, 피어츠...</td>\n",
       "      <td>86</td>\n",
       "    </tr>\n",
       "    <tr>\n",
       "      <th>...</th>\n",
       "      <td>...</td>\n",
       "      <td>...</td>\n",
       "      <td>...</td>\n",
       "    </tr>\n",
       "    <tr>\n",
       "      <th>7977</th>\n",
       "      <td>[인디언 디펜스]</td>\n",
       "      <td>[[3, 오픈 게임], [3, 루이 로페즈], [3, 스카치 게임], [3, 이탈리...</td>\n",
       "      <td>1</td>\n",
       "    </tr>\n",
       "    <tr>\n",
       "      <th>7978</th>\n",
       "      <td>[인디언 디펜스]</td>\n",
       "      <td>[[3, 오픈 게임], [3, 루이 로페즈], [3, 스카치 게임], [3, 이탈리...</td>\n",
       "      <td>1</td>\n",
       "    </tr>\n",
       "    <tr>\n",
       "      <th>7979</th>\n",
       "      <td>[인디언 디펜스]</td>\n",
       "      <td>[[3, 오픈 게임], [3, 루이 로페즈], [3, 스카치 게임], [3, 이탈리...</td>\n",
       "      <td>1</td>\n",
       "    </tr>\n",
       "    <tr>\n",
       "      <th>7980</th>\n",
       "      <td>[인디언 디펜스]</td>\n",
       "      <td>[[4, 스칸디나비안 디펜스], [4, 클로즈드 게임], [4, 퀸스 갬빗], [4...</td>\n",
       "      <td>1</td>\n",
       "    </tr>\n",
       "    <tr>\n",
       "      <th>7981</th>\n",
       "      <td>[존재하지 않는 오프닝입니다]</td>\n",
       "      <td>[[5, 프렌치 디펜스], [5, 퀸스 갬빗 거절 (QGD)], [5, 모던 베노니...</td>\n",
       "      <td>1</td>\n",
       "    </tr>\n",
       "  </tbody>\n",
       "</table>\n",
       "<p>7982 rows × 3 columns</p>\n",
       "</div>"
      ],
      "text/plain": [
       "                     0                                                  1    2\n",
       "0           [시실리안 디펜스]  [[4, 스카치 게임], [4, 센터 게임], [4, 대니시 갬빗], [4, 피어츠...  395\n",
       "1             [루이 로페즈]                                      [[4, 루이 로페즈]]  233\n",
       "2           [시실리안 디펜스]  [[4, 스카치 게임], [4, 센터 게임], [4, 대니시 갬빗], [4, 피어츠...   90\n",
       "3           [시실리안 디펜스]  [[4, 스카치 게임], [4, 센터 게임], [4, 대니시 갬빗], [4, 피어츠...   87\n",
       "4           [시실리안 디펜스]  [[4, 스카치 게임], [4, 센터 게임], [4, 대니시 갬빗], [4, 피어츠...   86\n",
       "...                ...                                                ...  ...\n",
       "7977         [인디언 디펜스]  [[3, 오픈 게임], [3, 루이 로페즈], [3, 스카치 게임], [3, 이탈리...    1\n",
       "7978         [인디언 디펜스]  [[3, 오픈 게임], [3, 루이 로페즈], [3, 스카치 게임], [3, 이탈리...    1\n",
       "7979         [인디언 디펜스]  [[3, 오픈 게임], [3, 루이 로페즈], [3, 스카치 게임], [3, 이탈리...    1\n",
       "7980         [인디언 디펜스]  [[4, 스칸디나비안 디펜스], [4, 클로즈드 게임], [4, 퀸스 갬빗], [4...    1\n",
       "7981  [존재하지 않는 오프닝입니다]  [[5, 프렌치 디펜스], [5, 퀸스 갬빗 거절 (QGD)], [5, 모던 베노니...    1\n",
       "\n",
       "[7982 rows x 3 columns]"
      ]
     },
     "execution_count": 344,
     "metadata": {},
     "output_type": "execute_result"
    }
   ],
   "source": [
    "lst"
   ]
  },
  {
   "cell_type": "code",
   "execution_count": 345,
   "id": "d85fc01f",
   "metadata": {},
   "outputs": [],
   "source": [
    "lst.to_csv(\"nextableopening.csv\",encoding=\"utf-8\",index=None,header=None)"
   ]
  },
  {
   "cell_type": "code",
   "execution_count": 331,
   "id": "182fcbf9",
   "metadata": {},
   "outputs": [
    {
     "data": {
      "text/plain": [
       "2"
      ]
     },
     "execution_count": 331,
     "metadata": {},
     "output_type": "execute_result"
    }
   ],
   "source": [
    "len(findlst[2])"
   ]
  }
 ],
 "metadata": {
  "kernelspec": {
   "display_name": "Python 3 (ipykernel)",
   "language": "python",
   "name": "python3"
  },
  "language_info": {
   "codemirror_mode": {
    "name": "ipython",
    "version": 3
   },
   "file_extension": ".py",
   "mimetype": "text/x-python",
   "name": "python",
   "nbconvert_exporter": "python",
   "pygments_lexer": "ipython3",
   "version": "3.9.7"
  }
 },
 "nbformat": 4,
 "nbformat_minor": 5
}
