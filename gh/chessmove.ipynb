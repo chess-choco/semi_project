{
 "cells": [
  {
   "cell_type": "code",
   "execution_count": 1,
   "metadata": {},
   "outputs": [
    {
     "ename": "ModuleNotFoundError",
     "evalue": "No module named 'PyQt5'",
     "output_type": "error",
     "traceback": [
      "\u001b[1;31m---------------------------------------------------------------------------\u001b[0m",
      "\u001b[1;31mModuleNotFoundError\u001b[0m                       Traceback (most recent call last)",
      "Cell \u001b[1;32mIn[1], line 3\u001b[0m\n\u001b[0;32m      1\u001b[0m \u001b[39mimport\u001b[39;00m \u001b[39mchess\u001b[39;00m\n\u001b[0;32m      2\u001b[0m \u001b[39mimport\u001b[39;00m \u001b[39mchess\u001b[39;00m\u001b[39m.\u001b[39;00m\u001b[39msvg\u001b[39;00m\n\u001b[1;32m----> 3\u001b[0m \u001b[39mfrom\u001b[39;00m \u001b[39mPyQt5\u001b[39;00m\u001b[39m.\u001b[39;00m\u001b[39mQtCore\u001b[39;00m \u001b[39mimport\u001b[39;00m pyqtSlot, Qt\n\u001b[0;32m      4\u001b[0m \u001b[39mfrom\u001b[39;00m \u001b[39mPyQt5\u001b[39;00m\u001b[39m.\u001b[39;00m\u001b[39mQtSvg\u001b[39;00m \u001b[39mimport\u001b[39;00m QSvgWidget\n\u001b[0;32m      5\u001b[0m \u001b[39mfrom\u001b[39;00m \u001b[39mPyQt5\u001b[39;00m\u001b[39m.\u001b[39;00m\u001b[39mQtWidgets\u001b[39;00m \u001b[39mimport\u001b[39;00m QApplication, QWidget\n",
      "\u001b[1;31mModuleNotFoundError\u001b[0m: No module named 'PyQt5'"
     ]
    }
   ],
   "source": [
    "import sys\n",
    "\n",
    "import chess\n",
    "\n",
    "from PyQt5.QtCore import pyqtSlot, Qt\n",
    "from PyQt5.QtSvg import QSvgWidget\n",
    "from PyQt5.QtWidgets import QApplication, QWidget\n"
   ]
  },
  {
   "cell_type": "code",
   "execution_count": null,
   "metadata": {},
   "outputs": [],
   "source": [
    "class MainWindow(QWidget):\n",
    "    \"\"\"\n",
    "    Create a surface for the chessboard.\n",
    "    \"\"\"\n",
    "    def __init__(self):\n",
    "        \"\"\"\n",
    "        Initialize the chessboard.\n",
    "        \"\"\"\n",
    "        super().__init__()\n",
    "\n",
    "        self.setWindowTitle(\"Chess GUI\")\n",
    "        self.setGeometry(300, 300, 800, 800)\n",
    "\n",
    "        self.widgetSvg = QSvgWidget(parent=self)\n",
    "        self.widgetSvg.setGeometry(10, 10, 600, 600)\n",
    "\n",
    "        self.boardSize = min(self.widgetSvg.width(),\n",
    "                             self.widgetSvg.height())\n",
    "        self.coordinates = True\n",
    "        self.margin = 0.05 * self.boardSize if self.coordinates else 0\n",
    "        self.squareSize = (self.boardSize - 2 * self.margin) / 8.0\n",
    "        self.pieceToMove = [None, None]\n",
    "\n",
    "        self.board = chess.Board()\n",
    "        self.drawBoard()\n",
    "\n",
    "    @pyqtSlot(QWidget)\n",
    "    def mousePressEvent(self, event):\n",
    "        \"\"\"\n",
    "        Handle left mouse clicks and enable moving chess pieces by\n",
    "        clicking on a chess piece and then the target square.\n",
    "\n",
    "        Moves must be made according to the rules of chess because\n",
    "        illegal moves are suppressed.\n",
    "        \"\"\"\n",
    "        if event.x() <= self.boardSize and event.y() <= self.boardSize:\n",
    "            if event.buttons() == Qt.LeftButton:\n",
    "                if self.margin < event.x() < self.boardSize - self.margin and self.margin < event.y() < self.boardSize - self.margin:\n",
    "                    file = int((event.x() - self.margin) / self.squareSize)\n",
    "                    rank = 7 - int((event.y() - self.margin) / self.squareSize)\n",
    "                    square = chess.square(file, rank)\n",
    "                    piece = self.board.piece_at(square)\n",
    "                    coordinates = \"{}{}\".format(chr(file + 97), str(rank + 1))\n",
    "                    if self.pieceToMove[0] is not None:\n",
    "                        move = chess.Move.from_uci(\"{}{}\".format(self.pieceToMove[1], coordinates))\n",
    "                        if move in self.board.legal_moves:\n",
    "                            self.board.push(move)\n",
    "                        piece = None\n",
    "                        coordinates = None\n",
    "                    self.pieceToMove = [piece, coordinates]\n",
    "                    self.drawBoard()\n",
    "\n",
    "    def drawBoard(self):\n",
    "        \"\"\"\n",
    "        Draw a chessboard with the starting position and then redraw\n",
    "        it for every new move.\n",
    "        \"\"\"\n",
    "        self.boardSvg = self.board._repr_svg_().encode(\"UTF-8\")\n",
    "        self.drawBoardSvg = self.widgetSvg.load(self.boardSvg)\n",
    "\n",
    "        return self.drawBoardSvg\n",
    "\n",
    "\n",
    "if __name__ == \"__main__\":\n",
    "    chessGui = QApplication(sys.argv)\n",
    "    window = MainWindow()\n",
    "    window.show()\n",
    "    sys.exit(chessGui.exec_())"
   ]
  }
 ],
 "metadata": {
  "kernelspec": {
   "display_name": "Python 3",
   "language": "python",
   "name": "python3"
  },
  "language_info": {
   "codemirror_mode": {
    "name": "ipython",
    "version": 3
   },
   "file_extension": ".py",
   "mimetype": "text/x-python",
   "name": "python",
   "nbconvert_exporter": "python",
   "pygments_lexer": "ipython3",
   "version": "3.10.9"
  },
  "orig_nbformat": 4
 },
 "nbformat": 4,
 "nbformat_minor": 2
}
